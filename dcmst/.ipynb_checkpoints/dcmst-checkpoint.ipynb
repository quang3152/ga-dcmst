{
 "cells": [
  {
   "cell_type": "code",
   "execution_count": 1,
   "metadata": {},
   "outputs": [],
   "source": [
    "import networkx as nx\n",
    "import random\n",
    "\n",
    "import csv\n",
    "import math"
   ]
  },
  {
   "cell_type": "code",
   "execution_count": 2,
   "metadata": {},
   "outputs": [
    {
     "name": "stdout",
     "output_type": "stream",
     "text": [
      "{1: 2, 2: 1, 3: 3, 4: 1, 5: 1}\n"
     ]
    }
   ],
   "source": [
    "def compute_degrees(edges):\n",
    "    degrees = {}\n",
    "    for u, v, w in edges:\n",
    "        degrees[u] = degrees.get(u, 0) + 1\n",
    "        degrees[v] = degrees.get(v, 0) + 1\n",
    "    return degrees\n",
    "\n",
    "edges = [(1, 2, 2), (1, 3, 1), (3, 4, 3), (3, 5, 4)]\n",
    "degrees = compute_degrees(edges)\n",
    "print(degrees)"
   ]
  },
  {
   "cell_type": "code",
   "execution_count": 3,
   "metadata": {},
   "outputs": [],
   "source": [
    "def calculate_weight(file):\n",
    "    # open the CSV file\n",
    "    with open(file, newline='') as csvfile:\n",
    "        reader = csv.reader(csvfile)\n",
    "\n",
    "        # create a dictionary to store the coordinates of each vertex\n",
    "        vertices = {}\n",
    "        for row in reader:\n",
    "            u = int(row[0])\n",
    "            x = float(row[1])\n",
    "            y = float(row[2])\n",
    "            vertices[u] = (x, y)\n",
    "\n",
    "    # compute the distances between all pairs of vertices\n",
    "    distances = []\n",
    "    for u in vertices:\n",
    "        for v in vertices:\n",
    "            if u < v:\n",
    "                x1, y1 = vertices[u]\n",
    "                x2, y2 = vertices[v]\n",
    "                d = math.sqrt((x2 - x1)**2 + (y2 - y1)**2)\n",
    "                distances.append((u, v, d))\n",
    "    return distances\n",
    "\n"
   ]
  },
  {
   "cell_type": "code",
   "execution_count": 4,
   "metadata": {},
   "outputs": [],
   "source": [
    "def random_prufer_code(n):\n",
    "    \"\"\"Generate a random Prufer code for a tree with n vertices.\"\"\"\n",
    "    prufer_code = list(range(2, n))\n",
    "    random.shuffle(prufer_code)\n",
    "    return prufer_code"
   ]
  },
  {
   "cell_type": "code",
   "execution_count": 5,
   "metadata": {},
   "outputs": [],
   "source": [
    "def calculate_fitness(edges, target_degrees):\n",
    "    degrees = list(compute_degrees(edges).values())\n",
    "    print (degrees)\n",
    "    \n",
    "    # Check if the degrees more than target degrees\n",
    "    for i in range(len(degrees)):\n",
    "        if degrees[i] > target_degrees[i]:\n",
    "            return 9999999\n",
    "\n",
    "    # Calculate the sum of the weights of the edges\n",
    "    weight_sum = sum(w for (u, v, w) in edges)\n",
    "\n",
    "    return weight_sum\n"
   ]
  },
  {
   "cell_type": "code",
   "execution_count": 6,
   "metadata": {},
   "outputs": [
    {
     "name": "stdout",
     "output_type": "stream",
     "text": [
      "[2, 1, 3, 1, 1]\n",
      "9999999\n"
     ]
    }
   ],
   "source": [
    "target_degrees = [1, 3, 3, 2, 1]\n",
    "fitness = calculate_fitness(edges, target_degrees)\n",
    "print(fitness)"
   ]
  },
  {
   "cell_type": "code",
   "execution_count": 7,
   "metadata": {},
   "outputs": [],
   "source": [
    "def crossover(parent1, parent2, crossover_rate):\n",
    "    if random.random() < crossover_rate:\n",
    "        crossover_point = random.randint(0, len(parent1))\n",
    "        offspring = parent1[:crossover_point] + parent2[crossover_point:]\n",
    "    else:\n",
    "        offspring = parent1\n",
    "    return offspring"
   ]
  },
  {
   "cell_type": "code",
   "execution_count": 8,
   "metadata": {},
   "outputs": [
    {
     "name": "stdout",
     "output_type": "stream",
     "text": [
      "[1, 2, 8, 9, 10]\n"
     ]
    }
   ],
   "source": [
    "parent1 = [1, 2, 3, 4, 5]\n",
    "parent2 = [6, 7, 8, 9, 10]\n",
    "offspring = crossover(parent1, parent2, 0.8)\n",
    "print(offspring)"
   ]
  },
  {
   "cell_type": "code",
   "execution_count": 9,
   "metadata": {},
   "outputs": [],
   "source": [
    "def mutate(individual, mutation_rate):\n",
    "    if random.random() < mutation_rate:\n",
    "        index1 = random.randint(0, len(individual) - 1)\n",
    "        index2 = random.randint(0, len(individual) - 1)\n",
    "        individual[index1], individual[index2] = individual[index2], individual[index1]\n",
    "    return individual"
   ]
  },
  {
   "cell_type": "code",
   "execution_count": 10,
   "metadata": {},
   "outputs": [
    {
     "name": "stdout",
     "output_type": "stream",
     "text": [
      "[1, 2, 5, 4, 3]\n"
     ]
    }
   ],
   "source": [
    "individual = [1, 2, 3, 4, 5]\n",
    "mutated_individual = mutate(individual, 1)\n",
    "print(mutated_individual)"
   ]
  },
  {
   "cell_type": "code",
   "execution_count": 11,
   "metadata": {},
   "outputs": [],
   "source": [
    "def genetic_algorithm(n, degree_constrained, population_size, crossover_rate, mutation_rate, max_generations):\n",
    "    population = [random_prufer_code(n) for _ in range(population_size)]\n",
    "    edges = nx.from_prufer_sequence(prufer_code)\n",
    "    for generation in range(max_generations):\n",
    "        fitness_values = [calculate_fitness(edges, degree_constrained) for prufer_code in population]\n",
    "\n",
    "        \n",
    "        "
   ]
  },
  {
   "cell_type": "code",
   "execution_count": 12,
   "metadata": {},
   "outputs": [],
   "source": [
    "G = nx.Graph()\n",
    "G.add_weighted_edges_from([(0, 1, 9),\n",
    "(0, 2, 10),\n",
    "(0, 3, 4),\n",
    "(1, 2, 7),\n",
    "(1, 3, 8),\n",
    "(2, 3, 3)\n",
    "])\n",
    "n = G.number_of_nodes()\n",
    "degree_constrained = [3,3,3,3]\n",
    "# genetic_algorithm(n, degree_constrained, 5, 0.8, 0.1, 10)"
   ]
  },
  {
   "cell_type": "code",
   "execution_count": 13,
   "metadata": {},
   "outputs": [
    {
     "name": "stdout",
     "output_type": "stream",
     "text": [
      "[(1, 2, 1.4142135623730951), (1, 3, 4.47213595499958), (1, 4, 7.211102550927978), (2, 3, 3.1622776601683795), (2, 4, 5.830951894845301), (3, 4, 2.8284271247461903)]\n"
     ]
    }
   ],
   "source": [
    "weight = calculate_weight(\"dat.csv\")\n",
    "print(weight)"
   ]
  },
  {
   "cell_type": "code",
   "execution_count": 14,
   "metadata": {},
   "outputs": [],
   "source": [
    "G = nx.Graph()\n",
    "G.add_weighted_edges_from(weight)"
   ]
  },
  {
   "cell_type": "code",
   "execution_count": null,
   "metadata": {},
   "outputs": [],
   "source": []
  }
 ],
 "metadata": {
  "kernelspec": {
   "display_name": "Python 3 (ipykernel)",
   "language": "python",
   "name": "python3"
  },
  "language_info": {
   "codemirror_mode": {
    "name": "ipython",
    "version": 3
   },
   "file_extension": ".py",
   "mimetype": "text/x-python",
   "name": "python",
   "nbconvert_exporter": "python",
   "pygments_lexer": "ipython3",
   "version": "3.9.7"
  }
 },
 "nbformat": 4,
 "nbformat_minor": 1
}
