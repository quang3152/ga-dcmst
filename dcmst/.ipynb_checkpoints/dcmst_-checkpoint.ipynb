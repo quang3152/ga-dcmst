{
 "cells": [
  {
   "cell_type": "code",
   "execution_count": 1,
   "metadata": {
    "pycharm": {
     "is_executing": true
    }
   },
   "outputs": [],
   "source": [
    "import random\n",
    "import networkx as nx\n",
    "import numpy as np\n",
    "import math\n",
    "import csv"
   ]
  },
  {
   "cell_type": "code",
   "execution_count": 2,
   "metadata": {
    "pycharm": {
     "name": "#%%\n"
    }
   },
   "outputs": [],
   "source": [
    "def gen_prufer(degree_constrained, n):\n",
    "    result = []\n",
    "    candidates = list(range(n))\n",
    "    while len(result) < n:\n",
    "        # Lấy một số ngẫu nhiên từ danh sách candidates\n",
    "        x = random.choice(candidates)\n",
    "        # Nếu số này chưa xuất hiện quá m lần trong danh sách kết quả, thêm số này vào danh sách kết quả\n",
    "        if result.count(x) < degree_constrained-1:\n",
    "            result.append(x)\n",
    "        # Nếu số này đã xuất hiện quá m lần, loại bỏ số này khỏi danh sách candidates\n",
    "        if result.count(x) == degree_constrained-1:\n",
    "            candidates.remove(x)\n",
    "    return result"
   ]
  },
  {
   "cell_type": "code",
   "execution_count": 3,
   "metadata": {
    "pycharm": {
     "name": "#%%\n"
    }
   },
   "outputs": [],
   "source": [
    "# Đọc dữ liệu từ tệp CSV và lưu trữ nó trong danh sách\n",
    "def get_distance_table(file_path):\n",
    "    records = []\n",
    "    with open('dat.csv', 'r') as csvfile:\n",
    "        reader = csv.reader(csvfile)\n",
    "        # next(reader) # Skip header row\n",
    "        for row in reader:\n",
    "            records.append(row)\n",
    "\n",
    "    # Tạo từ điển để lưu trữ khoảng cách giữa các điểm\n",
    "    distances_table = {}\n",
    "\n",
    "    # Tính toán khoảng cách giữa các điểm và lưu trữ kết quả vào từ điển\n",
    "    for i in range(len(records)):\n",
    "        for j in range(i + 1, len(records)):\n",
    "            point1 = (float(records[i][1]), float(records[i][2]))\n",
    "            point2 = (float(records[j][1]), float(records[j][2]))\n",
    "            distance = math.dist(point1, point2)\n",
    "            key = (int(records[i][0]), int(records[j][0]))\n",
    "            distances_table[key] = distance\n",
    "\n",
    "    # In ra từ điển khoảng cách\n",
    "    return distances_table\n"
   ]
  },
  {
   "cell_type": "code",
   "execution_count": 4,
   "metadata": {
    "pycharm": {
     "name": "#%%\n"
    }
   },
   "outputs": [],
   "source": [
    "# distances_table = get_distance_table(\"\")\n",
    "# a = (1, 0)\n",
    "# if a in distances_table:\n",
    "#     print(distances_table[a])\n",
    "# if a[::-1] in distances_table:\n",
    "#     print(distances_table[a[::-1]])"
   ]
  },
  {
   "cell_type": "code",
   "execution_count": 5,
   "metadata": {
    "pycharm": {
     "name": "#%%\n"
    }
   },
   "outputs": [],
   "source": [
    "def get_distance(edge, distances_table):\n",
    "    if edge in distances_table:\n",
    "        return distances_table[edge]\n",
    "    if edge[::-1] in distances_table:\n",
    "        return distances_table[edge[::-1]]"
   ]
  },
  {
   "cell_type": "code",
   "execution_count": null,
   "metadata": {
    "pycharm": {
     "name": "#%%\n"
    }
   },
   "outputs": [],
   "source": []
  },
  {
   "cell_type": "code",
   "execution_count": 6,
   "metadata": {
    "pycharm": {
     "name": "#%%\n"
    }
   },
   "outputs": [],
   "source": [
    "def compute_degrees(edges):\n",
    "    degrees = {}\n",
    "    for edge in edges:\n",
    "        for vertex in edge:\n",
    "            if vertex not in degrees:\n",
    "                degrees[vertex] = 0\n",
    "            degrees[vertex] += 1\n",
    "    return degrees\n"
   ]
  },
  {
   "cell_type": "code",
   "execution_count": 7,
   "metadata": {
    "pycharm": {
     "name": "#%%\n"
    }
   },
   "outputs": [],
   "source": [
    "def calculate_fitness(prufer_sequence, degree_constrained, distances_table):\n",
    "    tree = nx.from_prufer_sequence(prufer_sequence)\n",
    "    edges = tree.edges\n",
    "    degrees = list(compute_degrees(edges).values())\n",
    "    # print(degrees)\n",
    "\n",
    "    # Check if the degrees more than target degrees\n",
    "    if any(x > degree_constrained for x in degrees):\n",
    "        return 9999999\n",
    "\n",
    "    # Calculate the sum of the weights of the edges\n",
    "    cost = 0\n",
    "    for edge in edges:\n",
    "        cost = cost + get_distance(edge, distances_table)\n",
    "    return cost"
   ]
  },
  {
   "cell_type": "code",
   "execution_count": 8,
   "metadata": {
    "pycharm": {
     "name": "#%%\n"
    }
   },
   "outputs": [],
   "source": [
    "def crossover(parent1, parent2, crossover_rate=1):\n",
    "    offspring1 = parent1[:]\n",
    "    offspring2 = parent2[:]\n",
    "    if random.random() < crossover_rate:\n",
    "        crossover_point = random.randint(1, len(parent1) - 2)\n",
    "        offspring1[crossover_point:], offspring2[crossover_point:] = offspring2[crossover_point:], offspring1[crossover_point:]\n",
    "    return offspring1, offspring2\n"
   ]
  },
  {
   "cell_type": "code",
   "execution_count": 9,
   "metadata": {
    "pycharm": {
     "name": "#%%\n"
    }
   },
   "outputs": [],
   "source": [
    "def mutate(individual, mutation_rate=0.1):\n",
    "    if random.random() < mutation_rate:\n",
    "        idx1, idx2 = random.sample(range(len(individual)), 2)\n",
    "        individual[idx1], individual[idx2] = individual[idx2], individual[idx1]\n",
    "    return individual"
   ]
  },
  {
   "cell_type": "code",
   "execution_count": 10,
   "metadata": {
    "pycharm": {
     "name": "#%%\n"
    }
   },
   "outputs": [],
   "source": [
    "#\n",
    "#\n",
    "# p1 = gen_prufer(degree_constrained, n-2)\n",
    "# # p2 = gen_prufer(degree_constrained, n-2)\n",
    "# print(p1)\n",
    "# #\n",
    "# print(mutate(p1))"
   ]
  },
  {
   "cell_type": "code",
   "execution_count": 15,
   "metadata": {
    "pycharm": {
     "name": "#%%\n"
    }
   },
   "outputs": [],
   "source": [
    "def run_ga(n, degree_constrained, distances_table, population_size=10, crossover_rate=0.8, mutation_rate=0.1, max_generations=1):\n",
    "    population = [gen_prufer(degree_constrained, n-2) for _ in range(population_size)]\n",
    "    print(population)\n",
    "    for generation in range(max_generations):\n",
    "        fitness_values = [calculate_fitness(prufer_sequence, degree_constrained, distances_table) for prufer_sequence in\n",
    "                          population]\n",
    "        print(fitness_values)\n",
    "        "
   ]
  },
  {
   "cell_type": "code",
   "execution_count": 16,
   "metadata": {
    "pycharm": {
     "name": "#%%\n"
    }
   },
   "outputs": [
    {
     "name": "stdout",
     "output_type": "stream",
     "text": [
      "[[0, 5, 2, 7, 6, 3, 4, 1], [6, 4, 2, 5, 3, 7, 0, 1], [2, 0, 7, 6, 1, 4, 3, 5], [0, 7, 5, 2, 6, 4, 3, 1], [3, 5, 6, 1, 7, 0, 4, 2], [3, 0, 1, 5, 7, 2, 6, 4], [1, 7, 6, 4, 3, 0, 5, 2], [4, 6, 2, 0, 1, 7, 3, 5], [3, 6, 4, 0, 7, 1, 2, 5], [2, 6, 7, 4, 0, 3, 5, 1]]\n",
      "[46.11088120093463, 36.56555943127227, 49.27113125529867, 43.34534353945184, 46.6518665597048, 45.17812200837746, 50.37800993922137, 36.4152640784272, 48.221099313967166, 41.83257295361909]\n"
     ]
    }
   ],
   "source": [
    "degree_constrained = 2\n",
    "n = 10\n",
    "distances_table = get_distance_table(\"\")\n",
    "\n",
    "run_ga(n,degree_constrained, distances_table)\n",
    "# calculate_fitness(edges, degree_constrained, distances_table)"
   ]
  },
  {
   "cell_type": "code",
   "execution_count": null,
   "metadata": {},
   "outputs": [],
   "source": []
  }
 ],
 "metadata": {
  "kernelspec": {
   "display_name": "Python 3 (ipykernel)",
   "language": "python",
   "name": "python3"
  },
  "language_info": {
   "codemirror_mode": {
    "name": "ipython",
    "version": 3
   },
   "file_extension": ".py",
   "mimetype": "text/x-python",
   "name": "python",
   "nbconvert_exporter": "python",
   "pygments_lexer": "ipython3",
   "version": "3.9.7"
  }
 },
 "nbformat": 4,
 "nbformat_minor": 1
}
