{
 "cells": [
  {
   "cell_type": "code",
   "execution_count": 89,
   "metadata": {},
   "outputs": [],
   "source": [
    "import random\n",
    "import networkx as nx\n",
    "import numpy as np\n",
    "import math\n",
    "import csv\n",
    "from sys import maxsize\n"
   ]
  },
  {
   "cell_type": "code",
   "execution_count": 90,
   "metadata": {
    "pycharm": {
     "name": "#%%\n"
    }
   },
   "outputs": [],
   "source": [
    "def gen_prufer(degree_constrained, n):\n",
    "    result = []\n",
    "    candidates = list(range(n))\n",
    "    while len(result) < n:\n",
    "        # Lấy một số ngẫu nhiên từ danh sách candidates\n",
    "        x = random.choice(candidates)\n",
    "        # Nếu số này chưa xuất hiện quá m lần trong danh sách kết quả, thêm số này vào danh sách kết quả\n",
    "        if result.count(x) < degree_constrained - 1:\n",
    "            result.append(x)\n",
    "        # Nếu số này đã xuất hiện quá m lần, loại bỏ số này khỏi danh sách candidates\n",
    "        if result.count(x) == degree_constrained - 1:\n",
    "            candidates.remove(x)\n",
    "    return result"
   ]
  },
  {
   "cell_type": "code",
   "execution_count": 91,
   "metadata": {
    "pycharm": {
     "name": "#%%\n"
    }
   },
   "outputs": [],
   "source": [
    "# Đọc dữ liệu từ tệp CSV và lưu trữ nó trong danh sách\n",
    "def get_distance_table(file_path):\n",
    "    records = []\n",
    "    with open('dat.csv', 'r') as csvfile:\n",
    "        reader = csv.reader(csvfile)\n",
    "        # next(reader) # Skip header row\n",
    "        for row in reader:\n",
    "            records.append(row)\n",
    "\n",
    "    # Tạo từ điển để lưu trữ khoảng cách giữa các điểm\n",
    "    distances_table = {}\n",
    "\n",
    "    # Tính toán khoảng cách giữa các điểm và lưu trữ kết quả vào từ điển\n",
    "    for i in range(len(records)):\n",
    "        for j in range(i + 1, len(records)):\n",
    "            point1 = (float(records[i][1]), float(records[i][2]))\n",
    "            point2 = (float(records[j][1]), float(records[j][2]))\n",
    "            distance = math.dist(point1, point2)\n",
    "            key = (int(records[i][0]), int(records[j][0]))\n",
    "            distances_table[key] = distance\n",
    "\n",
    "    # In ra từ điển khoảng cách\n",
    "    return distances_table\n"
   ]
  },
  {
   "cell_type": "code",
   "execution_count": 92,
   "metadata": {
    "pycharm": {
     "name": "#%%\n"
    }
   },
   "outputs": [],
   "source": [
    "# distances_table = get_distance_table(\"\")\n",
    "# a = (1, 0)\n",
    "# if a in distances_table:\n",
    "#     print(distances_table[a])\n",
    "# if a[::-1] in distances_table:\n",
    "#     print(distances_table[a[::-1]])"
   ]
  },
  {
   "cell_type": "code",
   "execution_count": 93,
   "metadata": {
    "pycharm": {
     "name": "#%%\n"
    }
   },
   "outputs": [],
   "source": [
    "def get_distance(edge, distances_table):\n",
    "    if edge in distances_table:\n",
    "        return distances_table[edge]\n",
    "    if edge[::-1] in distances_table:\n",
    "        return distances_table[edge[::-1]]"
   ]
  },
  {
   "cell_type": "code",
   "execution_count": 93,
   "metadata": {
    "pycharm": {
     "name": "#%%\n"
    }
   },
   "outputs": [],
   "source": []
  },
  {
   "cell_type": "code",
   "execution_count": 94,
   "metadata": {
    "pycharm": {
     "name": "#%%\n"
    }
   },
   "outputs": [],
   "source": [
    "def compute_degrees(edges):\n",
    "    degrees = {}\n",
    "    for edge in edges:\n",
    "        for vertex in edge:\n",
    "            if vertex not in degrees:\n",
    "                degrees[vertex] = 0\n",
    "            degrees[vertex] += 1\n",
    "    return degrees\n"
   ]
  },
  {
   "cell_type": "code",
   "execution_count": 95,
   "metadata": {
    "pycharm": {
     "name": "#%%\n"
    }
   },
   "outputs": [],
   "source": [
    "def calculate_fitness(prufer_sequence, degree_constrained, distances_table):\n",
    "    tree = nx.from_prufer_sequence(prufer_sequence)\n",
    "    edges = tree.edges\n",
    "    degrees = list(compute_degrees(edges).values())\n",
    "    # print(degrees)\n",
    "\n",
    "    # Check if the degrees more than target degrees\n",
    "    if any(x > degree_constrained for x in degrees):\n",
    "        return 9999999\n",
    "\n",
    "    # Calculate the sum of the weights of the edges\n",
    "    cost = 0\n",
    "    for edge in edges:\n",
    "        cost = cost + get_distance(edge, distances_table)\n",
    "    return cost"
   ]
  },
  {
   "cell_type": "code",
   "execution_count": 96,
   "metadata": {
    "pycharm": {
     "name": "#%%\n"
    }
   },
   "outputs": [],
   "source": [
    "def crossover(parent1, parent2, crossover_rate=1):\n",
    "    offspring1 = parent1[:]\n",
    "    offspring2 = parent2[:]\n",
    "    if random.random() < crossover_rate:\n",
    "        crossover_point = random.randint(1, len(parent1) - 2)\n",
    "        offspring1[crossover_point:], offspring2[crossover_point:] = offspring2[crossover_point:], offspring1[\n",
    "                                                                                                   crossover_point:]\n",
    "    return offspring1, offspring2\n"
   ]
  },
  {
   "cell_type": "code",
   "execution_count": 97,
   "metadata": {
    "pycharm": {
     "name": "#%%\n"
    }
   },
   "outputs": [],
   "source": [
    "def mutate(individual, mutation_rate=0.1):\n",
    "    if random.random() < mutation_rate:\n",
    "        idx1, idx2 = random.sample(range(len(individual)), 2)\n",
    "        individual[idx1], individual[idx2] = individual[idx2], individual[idx1]\n",
    "    return individual"
   ]
  },
  {
   "cell_type": "code",
   "execution_count": 98,
   "metadata": {
    "pycharm": {
     "name": "#%%\n"
    }
   },
   "outputs": [],
   "source": [
    "#\n",
    "#\n",
    "# p1 = gen_prufer(degree_constrained, n-2)\n",
    "# # p2 = gen_prufer(degree_constrained, n-2)\n",
    "# print(p1)\n",
    "# #\n",
    "# print(mutate(p1))"
   ]
  },
  {
   "cell_type": "code",
   "execution_count": 99,
   "metadata": {
    "pycharm": {
     "name": "#%%\n"
    }
   },
   "outputs": [],
   "source": [
    "# def run_ga(n, degree_constrained, distances_table, population_size=500, crossover_rate=0.8, mutation_rate=0.1,\n",
    "#            max_generations=100):\n",
    "#     population = [gen_prufer(degree_constrained, n - 2) for _ in range(population_size)]\n",
    "#     # print(population)\n",
    "#     cost = 999999\n",
    "#     for generation in range(max_generations):\n",
    "#         print(population)\n",
    "#         fitness_values = [calculate_fitness(prufer_sequence, degree_constrained, distances_table) for prufer_sequence in\n",
    "#                           population]\n",
    "#         print(fitness_values)\n",
    "#         new_population = []\n",
    "#         while len(new_population) < population_size:\n",
    "#             i, j = np.random.choice(range(population_size), size=2, replace=False,\n",
    "#                                     p=np.array(fitness_values) / sum(fitness_values))\n",
    "#             parent1 = population[i]\n",
    "#             parent2 = population[j]\n",
    "#             offspring1, offspring2 = crossover(parent1, parent2)\n",
    "#             new_population.append(offspring1)\n",
    "#             new_population.append(offspring2)\n",
    "#         for i in range(len(new_population)):\n",
    "#             mutate(new_population[i])\n",
    "#         population = new_population\n",
    "#     return population"
   ]
  },
  {
   "cell_type": "code",
   "execution_count": 100,
   "metadata": {
    "pycharm": {
     "name": "#%%\n"
    }
   },
   "outputs": [],
   "source": [
    "def run_ga(n, degree_constrained, distances_table, population_size=500, crossover_rate=0.8, mutation_rate=0.1,\n",
    "           max_generations=100):\n",
    "    population = [gen_prufer(degree_constrained, n - 2) for _ in range(population_size)]\n",
    "    # print(population)\n",
    "    fitness_values = [calculate_fitness(prufer_sequence, degree_constrained, distances_table) for prufer_sequence in\n",
    "                          population]\n",
    "    counter, generations, min_cost = 0, 0, min(fitness_values)\n",
    "    best_choice = population[fitness_values.index(min(fitness_values))]\n",
    "\n",
    "    while counter < max_generations:\n",
    "        # print(population)\n",
    "        # print(fitness_values)\n",
    "        new_population = []\n",
    "        while len(new_population) < population_size:\n",
    "            i, j = np.random.choice(range(population_size), size=2, replace=False,\n",
    "                                    p=np.array(fitness_values) / sum(fitness_values))\n",
    "            parent1 = population[i]\n",
    "            parent2 = population[j]\n",
    "            offspring1, offspring2 = crossover(parent1, parent2)\n",
    "            new_population.append(offspring1)\n",
    "            new_population.append(offspring2)\n",
    "        for i in range(len(new_population)):\n",
    "            mutate(new_population[i])\n",
    "        population = new_population\n",
    "        fitness_values = [calculate_fitness(prufer_sequence, degree_constrained, distances_table) for prufer_sequence in\n",
    "                          population]\n",
    "        if min(fitness_values) < min_cost:\n",
    "            counter, min_cost = 0, min(fitness_values)\n",
    "            best_choice = population[fitness_values.index(min(fitness_values))]\n",
    "        else:\n",
    "            counter += 1\n",
    "        generations += 1\n",
    "    return best_choice, generations\n"
   ]
  },
  {
   "cell_type": "code",
   "execution_count": 101,
   "outputs": [
    {
     "name": "stdout",
     "output_type": "stream",
     "text": [
      "[4, 7, 5, 3, 6, 2, 1, 0] 100\n",
      "21.395623132202235\n"
     ]
    }
   ],
   "source": [
    "degree_constrained = 2\n",
    "n = 10\n",
    "distances_table = get_distance_table(\"\")\n",
    "\n",
    "solution, generation = run_ga(n, degree_constrained, distances_table)\n",
    "print(solution, generation)\n",
    "print(calculate_fitness(solution,degree_constrained,distances_table))\n",
    "# fitness_values = [calculate_fitness(prufer_sequence, degree_constrained, distances_table) for prufer_sequence in\n",
    "#                           last_generation]\n",
    "# print(fitness_values)"
   ],
   "metadata": {
    "collapsed": false,
    "pycharm": {
     "name": "#%%\n"
    }
   }
  },
  {
   "cell_type": "code",
   "execution_count": 101,
   "metadata": {
    "pycharm": {
     "name": "#%%\n"
    }
   },
   "outputs": [],
   "source": []
  }
 ],
 "metadata": {
  "kernelspec": {
   "display_name": "Python 3 (ipykernel)",
   "language": "python",
   "name": "python3"
  },
  "language_info": {
   "codemirror_mode": {
    "name": "ipython",
    "version": 3
   },
   "file_extension": ".py",
   "mimetype": "text/x-python",
   "name": "python",
   "nbconvert_exporter": "python",
   "pygments_lexer": "ipython3",
   "version": "3.9.7"
  }
 },
 "nbformat": 4,
 "nbformat_minor": 1
}