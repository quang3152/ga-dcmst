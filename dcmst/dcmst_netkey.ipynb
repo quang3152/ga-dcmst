{
 "cells": [
  {
   "cell_type": "code",
   "execution_count": 11,
   "metadata": {
    "collapsed": true
   },
   "outputs": [],
   "source": [
    "import random\n",
    "\n",
    "import networkx as nx\n",
    "import numpy as np\n",
    "from utils_cv import compute_n, is_cycle\n",
    "from utils import get_distance_table, get_distance"
   ]
  },
  {
   "cell_type": "code",
   "execution_count": 12,
   "outputs": [],
   "source": [
    "def get_permutation(random_key_sequence):\n",
    "    key = np.array(random_key_sequence)\n",
    "    return np.argsort(key)[::-1]"
   ],
   "metadata": {
    "collapsed": false,
    "pycharm": {
     "name": "#%%\n"
    }
   }
  },
  {
   "cell_type": "code",
   "execution_count": 13,
   "outputs": [],
   "source": [
    "def decode(permutation, degree_constrained):\n",
    "    n = compute_n(len(permutation))\n",
    "    G = nx.complete_graph(n)\n",
    "    # print(\"Full G:\", G.edges)\n",
    "    # print(G.edges[4])\n",
    "    edges = list(G.edges)\n",
    "\n",
    "    T = nx.empty_graph(n)\n",
    "    # print(T.nodes)\n",
    "    i = 0\n",
    "    while len(T.edges) < n - 1:\n",
    "        # T.add_edge(G.edges[i])\n",
    "        j = permutation[i]\n",
    "        # print(j)\n",
    "        i += 1\n",
    "        edge = edges[j]\n",
    "        # print(edge)\n",
    "        T.add_edge(*edge)\n",
    "        nodes = [*edge]\n",
    "        # print(\"Edge:\", edge)\n",
    "        # print(\"T:\", T.edges)\n",
    "        # print(\"Circle:\", is_cycle(T))\n",
    "        # print(\"Constrain:\", T.degree(nodes[0]) > degree_constrained, T.degree(nodes[1]) > degree_constrained)\n",
    "        if is_cycle(T):\n",
    "            T.remove_edge(*edge)\n",
    "        elif T.degree(nodes[0]) > degree_constrained or T.degree(nodes[1]) > degree_constrained:\n",
    "            T.remove_edge(*edge)\n",
    "\n",
    "    return T"
   ],
   "metadata": {
    "collapsed": false,
    "pycharm": {
     "name": "#%%\n"
    }
   }
  },
  {
   "cell_type": "code",
   "execution_count": 14,
   "outputs": [],
   "source": [
    "def gen_key(n):\n",
    "    l = int(n * (n - 1) / 2)\n",
    "    return [random.random() for _ in range(l)]"
   ],
   "metadata": {
    "collapsed": false,
    "pycharm": {
     "name": "#%%\n"
    }
   }
  },
  {
   "cell_type": "code",
   "execution_count": 15,
   "outputs": [],
   "source": [
    "def calculate_fitness(random_key_sequence, degree_constrained, distances_table):\n",
    "    permutation = get_permutation(random_key_sequence)\n",
    "    tree = decode(permutation, degree_constrained)\n",
    "    edges = tree.edges\n",
    "    # # Check if the degrees more than target degrees\n",
    "    # if any(x > degree_constrained for x in degrees):\n",
    "    #     return 9999999\n",
    "\n",
    "    cost = 0\n",
    "    for edge in edges:\n",
    "        cost = cost + get_distance(edge, distances_table)\n",
    "    return cost"
   ],
   "metadata": {
    "collapsed": false,
    "pycharm": {
     "name": "#%%\n"
    }
   }
  },
  {
   "cell_type": "code",
   "execution_count": 16,
   "outputs": [],
   "source": [
    "def crossover(parent1, parent2, crossover_rate=0.8):\n",
    "    offspring1 = parent1[:]\n",
    "    offspring2 = parent2[:]\n",
    "    if random.random() < crossover_rate:\n",
    "        crossover_point = random.randint(1, len(parent1) - 2)\n",
    "        offspring1[crossover_point:], offspring2[crossover_point:] = offspring2[crossover_point:], offspring1[\n",
    "                                                                                                   crossover_point:]\n",
    "    return offspring1, offspring2\n"
   ],
   "metadata": {
    "collapsed": false,
    "pycharm": {
     "name": "#%%\n"
    }
   }
  },
  {
   "cell_type": "code",
   "execution_count": 17,
   "outputs": [],
   "source": [
    "\n",
    "\n",
    "def mutate(individual, mutation_rate=0.1):\n",
    "    if random.random() < mutation_rate:\n",
    "        idx1, idx2 = random.sample(range(len(individual)), 2)\n",
    "        individual[idx1], individual[idx2] = individual[idx2], individual[idx1]\n",
    "    return individual\n",
    "\n",
    "\n",
    "def mutate_pop(population, mutation_rate):\n",
    "    new_pop = []\n",
    "    for individual in population:\n",
    "        if random.random() < mutation_rate:\n",
    "            idx1, idx2 = random.sample(range(len(individual)), 2)\n",
    "            individual[idx1], individual[idx2] = individual[idx2], individual[idx1]\n",
    "            new_pop.append(individual)\n",
    "    return new_pop"
   ],
   "metadata": {
    "collapsed": false,
    "pycharm": {
     "name": "#%%\n"
    }
   }
  },
  {
   "cell_type": "code",
   "execution_count": 18,
   "outputs": [],
   "source": [
    "def get_new_pop(population, population_size, degree_constrained, distances_table):\n",
    "    fitness_values = [calculate_fitness(individual, degree_constrained, distances_table) for\n",
    "                      individual in population]\n",
    "    sorted_fitness = sorted(fitness_values)\n",
    "    index_dict = {val: idx for idx, val in enumerate(fitness_values)}\n",
    "    # Lấy danh sách index của population đã được sắp xếp theo fitness\n",
    "    pop_index = [index_dict[val] for val in sorted_fitness]\n",
    "    # Lấy index của [population_size] phần tử đầu (có cost nhỏ nhất)\n",
    "    new_pop_index = pop_index[:population_size]\n",
    "    new_pop = [population[i] for i in new_pop_index]\n",
    "    return new_pop"
   ],
   "metadata": {
    "collapsed": false,
    "pycharm": {
     "name": "#%%\n"
    }
   }
  },
  {
   "cell_type": "code",
   "execution_count": 19,
   "outputs": [],
   "source": [
    "\n",
    "def run_ga(n, degree_constrained, distances_table, population_size=50, crossover_rate=0.8, mutation_rate=0.1,\n",
    "           max_generations=50):\n",
    "    population = [gen_key(n) for _ in range(population_size)]\n",
    "    # print(population)\n",
    "    for generation in range(max_generations):\n",
    "        # print(population)\n",
    "        # Tính một mảng fitness value của population\n",
    "        fitness_values = [calculate_fitness(cv_sequence, degree_constrained, distances_table) for\n",
    "                          cv_sequence in population]\n",
    "        # print(fitness_values)\n",
    "        new_population = []\n",
    "        while len(new_population) < population_size:\n",
    "            i, j = np.random.choice(range(population_size), size=2, replace=False,\n",
    "                                    p=np.array(fitness_values) / sum(fitness_values))\n",
    "            parent1 = population[i]\n",
    "            parent2 = population[j]\n",
    "            offspring1, offspring2 = crossover(parent1, parent2)\n",
    "            new_population.append(offspring1)\n",
    "            new_population.append(offspring2)\n",
    "        for i in range(len(new_population)):\n",
    "            mutate(new_population[i])\n",
    "        population = population + new_population\n",
    "        population = get_new_pop(population, population_size, degree_constrained, distances_table)\n",
    "\n",
    "    return population\n"
   ],
   "metadata": {
    "collapsed": false,
    "pycharm": {
     "name": "#%%\n"
    }
   }
  },
  {
   "cell_type": "code",
   "execution_count": 20,
   "outputs": [
    {
     "name": "stdout",
     "output_type": "stream",
     "text": [
      "[0.8321914066231066, 0.08565159367768627, 0.22778066237543593, 0.31395578293752546, 0.014521902128260877, 0.6566869533920249, 0.965158728367455, 0.40749676203550755, 0.6373198008698537, 0.9288953678518274]\n",
      "4277.163670389418\n"
     ]
    }
   ],
   "source": [
    "degree_constrained = 2\n",
    "n = 5\n",
    "distances_table = get_distance_table(\"data/7_wi29.csv\")\n",
    "\n",
    "population = run_ga(n, degree_constrained, distances_table)\n",
    "print(population[0])\n",
    "print(calculate_fitness(population[0], degree_constrained, distances_table))"
   ],
   "metadata": {
    "collapsed": false,
    "pycharm": {
     "name": "#%%\n"
    }
   }
  },
  {
   "cell_type": "code",
   "execution_count": 21,
   "outputs": [
    {
     "name": "stdout",
     "output_type": "stream",
     "text": [
      "[(0, 1), (1, 4), (2, 3), (3, 4)]\n",
      "True\n"
     ]
    }
   ],
   "source": [
    "T = decode(get_permutation(population[0]), degree_constrained)\n",
    "print(T.edges)\n",
    "print(nx.is_tree(T))\n"
   ],
   "metadata": {
    "collapsed": false,
    "pycharm": {
     "name": "#%%\n"
    }
   }
  }
 ],
 "metadata": {
  "kernelspec": {
   "display_name": "Python 3",
   "language": "python",
   "name": "python3"
  },
  "language_info": {
   "codemirror_mode": {
    "name": "ipython",
    "version": 2
   },
   "file_extension": ".py",
   "mimetype": "text/x-python",
   "name": "python",
   "nbconvert_exporter": "python",
   "pygments_lexer": "ipython2",
   "version": "2.7.6"
  }
 },
 "nbformat": 4,
 "nbformat_minor": 0
}