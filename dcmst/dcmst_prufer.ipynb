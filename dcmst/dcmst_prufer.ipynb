{
 "cells": [
  {
   "cell_type": "code",
   "execution_count": 31,
   "metadata": {},
   "outputs": [],
   "source": [
    "import heapq\n",
    "import random\n",
    "import networkx as nx\n",
    "import numpy as np\n",
    "import math\n",
    "import csv\n",
    "from sys import maxsize\n"
   ]
  },
  {
   "cell_type": "code",
   "execution_count": 32,
   "metadata": {
    "pycharm": {
     "name": "#%%\n"
    }
   },
   "outputs": [],
   "source": [
    "def gen_prufer(degree_constrained, n):\n",
    "    result = []\n",
    "    candidates = list(range(n))\n",
    "    while len(result) < n:\n",
    "        # Lấy một số ngẫu nhiên từ danh sách candidates\n",
    "        x = random.choice(candidates)\n",
    "        # Nếu số này chưa xuất hiện quá m lần trong danh sách kết quả, thêm số này vào danh sách kết quả\n",
    "        if result.count(x) < degree_constrained - 1:\n",
    "            result.append(x)\n",
    "        # Nếu số này đã xuất hiện quá m lần, loại bỏ số này khỏi danh sách candidates\n",
    "        if result.count(x) == degree_constrained - 1:\n",
    "            candidates.remove(x)\n",
    "    return result"
   ]
  },
  {
   "cell_type": "code",
   "execution_count": 33,
   "metadata": {
    "pycharm": {
     "name": "#%%\n"
    }
   },
   "outputs": [],
   "source": [
    "# Đọc dữ liệu từ tệp CSV và lưu trữ nó trong danh sách\n",
    "def get_distance_table(file_path):\n",
    "    records = []\n",
    "    with open(file_path, 'r') as csvfile:\n",
    "        reader = csv.reader(csvfile)\n",
    "        # next(reader) # Skip header row\n",
    "        for row in reader:\n",
    "            records.append(row)\n",
    "\n",
    "    # Tạo từ điển để lưu trữ khoảng cách giữa các điểm\n",
    "    distances_table = {}\n",
    "\n",
    "    # Tính toán khoảng cách giữa các điểm và lưu trữ kết quả vào từ điển\n",
    "    for i in range(len(records)):\n",
    "        for j in range(i + 1, len(records)):\n",
    "            point1 = (float(records[i][1]), float(records[i][2]))\n",
    "            point2 = (float(records[j][1]), float(records[j][2]))\n",
    "            distance = math.dist(point1, point2)\n",
    "            key = (int(records[i][0]), int(records[j][0]))\n",
    "            distances_table[key] = distance\n",
    "\n",
    "    # In ra từ điển khoảng cách\n",
    "    return distances_table\n"
   ]
  },
  {
   "cell_type": "code",
   "execution_count": 34,
   "metadata": {
    "pycharm": {
     "name": "#%%\n"
    }
   },
   "outputs": [],
   "source": [
    "# distances_table = get_distance_table(\"\")\n",
    "# a = (1, 0)\n",
    "# if a in distances_table:\n",
    "#     print(distances_table[a])\n",
    "# if a[::-1] in distances_table:\n",
    "#     print(distances_table[a[::-1]])"
   ]
  },
  {
   "cell_type": "code",
   "execution_count": 35,
   "metadata": {
    "pycharm": {
     "name": "#%%\n"
    }
   },
   "outputs": [],
   "source": [
    "def get_distance(edge, distances_table):\n",
    "    if edge in distances_table:\n",
    "        return distances_table[edge]\n",
    "    if edge[::-1] in distances_table:\n",
    "        return distances_table[edge[::-1]]"
   ]
  },
  {
   "cell_type": "code",
   "execution_count": 35,
   "metadata": {
    "pycharm": {
     "name": "#%%\n"
    }
   },
   "outputs": [],
   "source": []
  },
  {
   "cell_type": "code",
   "execution_count": 36,
   "metadata": {
    "pycharm": {
     "name": "#%%\n"
    }
   },
   "outputs": [],
   "source": [
    "def compute_degrees(edges):\n",
    "    degrees = {}\n",
    "    for edge in edges:\n",
    "        for vertex in edge:\n",
    "            if vertex not in degrees:\n",
    "                degrees[vertex] = 0\n",
    "            degrees[vertex] += 1\n",
    "    return degrees\n"
   ]
  },
  {
   "cell_type": "code",
   "execution_count": 37,
   "metadata": {
    "pycharm": {
     "name": "#%%\n"
    }
   },
   "outputs": [],
   "source": [
    "def calculate_fitness(prufer_sequence, degree_constrained, distances_table):\n",
    "    tree = nx.from_prufer_sequence(prufer_sequence)\n",
    "    edges = tree.edges\n",
    "    degrees = list(compute_degrees(edges).values())\n",
    "    # print(degrees)\n",
    "\n",
    "    # Check if the degrees more than target degrees\n",
    "    if any(x > degree_constrained for x in degrees):\n",
    "        return 9999999\n",
    "\n",
    "    cost = 0\n",
    "    for edge in edges:\n",
    "        cost = cost + get_distance(edge, distances_table)\n",
    "    return cost"
   ]
  },
  {
   "cell_type": "code",
   "execution_count": 38,
   "metadata": {
    "pycharm": {
     "name": "#%%\n"
    }
   },
   "outputs": [],
   "source": [
    "def crossover(parent1, parent2, crossover_rate=1):\n",
    "    offspring1 = parent1[:]\n",
    "    offspring2 = parent2[:]\n",
    "    if random.random() < crossover_rate:\n",
    "        crossover_point = random.randint(1, len(parent1) - 2)\n",
    "        offspring1[crossover_point:], offspring2[crossover_point:] = offspring2[crossover_point:], offspring1[\n",
    "                                                                                                   crossover_point:]\n",
    "    return offspring1, offspring2\n"
   ]
  },
  {
   "cell_type": "code",
   "execution_count": 39,
   "metadata": {
    "pycharm": {
     "name": "#%%\n"
    }
   },
   "outputs": [],
   "source": [
    "def mutate(individual, mutation_rate=0.1):\n",
    "    if random.random() < mutation_rate:\n",
    "        idx1, idx2 = random.sample(range(len(individual)), 2)\n",
    "        individual[idx1], individual[idx2] = individual[idx2], individual[idx1]\n",
    "    return individual\n",
    "\n",
    "\n",
    "def mutate_pop(population, mutation_rate):\n",
    "    new_pop = []\n",
    "    for individual in population:\n",
    "        if random.random() < mutation_rate:\n",
    "            idx1, idx2 = random.sample(range(len(individual)), 2)\n",
    "            individual[idx1], individual[idx2] = individual[idx2], individual[idx1]\n",
    "            new_pop.append(individual)\n",
    "    return new_pop"
   ]
  },
  {
   "cell_type": "code",
   "execution_count": 40,
   "metadata": {
    "pycharm": {
     "name": "#%%\n"
    }
   },
   "outputs": [],
   "source": [
    "# def fix_off(offspring, degree_constrained):\n",
    "#     counts = {}\n",
    "#     used = set()\n",
    "#     new_numbers = []\n",
    "#\n",
    "#     for num in offspring:\n",
    "#         counts[num] = counts.get(num, 0) + 1\n",
    "#         if counts[num] > degree_constrained:\n",
    "#             for i in range(0, len(offspring)):\n",
    "#                 if i not in used:\n",
    "#                     new_numbers.append(i)\n",
    "#                     used.add(i)\n",
    "#                     break\n",
    "#         else:\n",
    "#             new_numbers.append(num)\n",
    "#\n",
    "#     return new_numbers"
   ]
  },
  {
   "cell_type": "code",
   "execution_count": 41,
   "outputs": [],
   "source": [
    "def sort_by_value(dict):\n",
    "    return sorted(dict.items(), key=lambda x: x[1])\n",
    "\n",
    "\n",
    "def repair(prufer_sequence, degree_constrained):\n",
    "    set_ver = set(range(len(prufer_sequence) + 2))\n",
    "    count = {}\n",
    "    for ver in set_ver:\n",
    "        count[ver] = prufer_sequence.count(ver)\n",
    "    count = dict(sort_by_value(count))\n",
    "\n",
    "    for i in range(len(prufer_sequence)):\n",
    "        if count[prufer_sequence[i]] > degree_constrained:\n",
    "            j = next(iter(count))\n",
    "            count.update([(prufer_sequence[i], count[prufer_sequence[i]] - 1), (j, count[j] + 1)])\n",
    "            prufer_sequence[i] = j\n",
    "            count = dict(sort_by_value(count))\n",
    "    return prufer_sequence"
   ],
   "metadata": {
    "collapsed": false,
    "pycharm": {
     "name": "#%%\n"
    }
   }
  },
  {
   "cell_type": "code",
   "execution_count": 42,
   "outputs": [],
   "source": [
    "def get_new_pop(population, population_size, degree_constrained, distances_table):\n",
    "    fitness_values = [calculate_fitness(individual, degree_constrained, distances_table) for\n",
    "                      individual in population]\n",
    "    sorted_fitness = sorted(fitness_values)\n",
    "    index_dict = {val: idx for idx, val in enumerate(fitness_values)}\n",
    "    # Lấy danh sách index của population đã được sắp xếp theo fitness\n",
    "    pop_index = [index_dict[val] for val in sorted_fitness]\n",
    "    # Lấy index của [population_size] phần tử đầu (có cost nhỏ nhất)\n",
    "    new_pop_index = pop_index[:population_size]\n",
    "    new_pop = [population[i] for i in new_pop_index]\n",
    "    return new_pop"
   ],
   "metadata": {
    "collapsed": false,
    "pycharm": {
     "name": "#%%\n"
    }
   }
  },
  {
   "cell_type": "code",
   "execution_count": 43,
   "outputs": [],
   "source": [
    "def run_ga(n, degree_constrained, distances_table, population_size=500, crossover_rate=0.8, mutation_rate=0.1,\n",
    "           max_generations=100):\n",
    "    population = [gen_prufer(degree_constrained, n - 2) for _ in range(population_size)]\n",
    "    # print(population)\n",
    "    for generation in range(max_generations):\n",
    "        # print(population)\n",
    "        # Tính một mảng fitness value của population\n",
    "        fitness_values = [calculate_fitness(prufer_sequence, degree_constrained, distances_table) for\n",
    "                          prufer_sequence in population]\n",
    "        # print(fitness_values)\n",
    "        new_population = []\n",
    "        while len(new_population) < population_size:\n",
    "            i, j = np.random.choice(range(population_size), size=2, replace=False,\n",
    "                                    p=np.array(fitness_values) / sum(fitness_values))\n",
    "            parent1 = population[i]\n",
    "            parent2 = population[j]\n",
    "            offspring1, offspring2 = crossover(parent1, parent2)\n",
    "            new_population.append(offspring1)\n",
    "            new_population.append(offspring2)\n",
    "        for i in range(len(new_population)):\n",
    "            mutate(new_population[i])\n",
    "            repair(new_population[i], degree_constrained)\n",
    "        population = population + new_population\n",
    "        population = get_new_pop(population, population_size, degree_constrained, distances_table)\n",
    "\n",
    "    return population"
   ],
   "metadata": {
    "collapsed": false,
    "pycharm": {
     "name": "#%%\n"
    }
   }
  },
  {
   "cell_type": "code",
   "execution_count": 44,
   "metadata": {
    "pycharm": {
     "name": "#%%\n"
    }
   },
   "outputs": [],
   "source": [
    "# def run_ga(n, degree_constrained, distances_table, population_size=500, crossover_rate=0.8, mutation_rate=0.1,\n",
    "#            max_generations=10):\n",
    "#     population = [gen_prufer(degree_constrained, n - 2) for _ in range(population_size)]\n",
    "#     # print(population)\n",
    "#     fitness_values = [calculate_fitness(prufer_sequence, degree_constrained, distances_table) for prufer_sequence in\n",
    "#                           population]\n",
    "#     counter, generations, min_cost = 0, 0, min(fitness_values)\n",
    "#     best_choice = population[fitness_values.index(min(fitness_values))]\n",
    "#\n",
    "#     while counter < max_generations:\n",
    "#         print(population)\n",
    "#         print(fitness_values)\n",
    "#         new_population = []\n",
    "#         while len(new_population) < population_size:\n",
    "#             i, j = np.random.choice(range(population_size), size=2, replace=False,\n",
    "#                                     p=np.array(fitness_values) / sum(fitness_values))\n",
    "#             parent1 = population[i]\n",
    "#             parent2 = population[j]\n",
    "#             offspring1, offspring2 = crossover(parent1, parent2)\n",
    "#             offspring1 = fix_off(offspring1, degree_constrained-1)\n",
    "#             offspring2 = fix_off(offspring2, degree_constrained-1)\n",
    "#             new_population.append(offspring1)\n",
    "#             new_population.append(offspring2)\n",
    "#         for i in range(len(new_population)):\n",
    "#             mutate(new_population[i])\n",
    "#         population = new_population\n",
    "#         fitness_values = [calculate_fitness(prufer_sequence, degree_constrained, distances_table) for prufer_sequence in\n",
    "#                           population]\n",
    "#         if min(fitness_values) < min_cost:\n",
    "#             counter, min_cost = 0, min(fitness_values)\n",
    "#             best_choice = population[fitness_values.index(min(fitness_values))]\n",
    "#         else:\n",
    "#             counter += 1\n",
    "#         generations += 1\n",
    "#     return best_choice, generations\n"
   ]
  },
  {
   "cell_type": "code",
   "execution_count": 45,
   "outputs": [
    {
     "name": "stdout",
     "output_type": "stream",
     "text": [
      "[2, 0, 1]\n",
      "7570.410430278543\n"
     ]
    }
   ],
   "source": [
    "degree_constrained = 2\n",
    "n = 5\n",
    "distances_table = get_distance_table(\"data/7_wi29.csv\")\n",
    "\n",
    "population = run_ga(n, degree_constrained, distances_table)\n",
    "print(population[0])\n",
    "print(calculate_fitness(population[0], degree_constrained, distances_table))\n",
    "# fitness_values = [calculate_fitness(prufer_sequence, degree_constrained, distances_table) for prufer_sequence in\n",
    "#                           last_generation]\n",
    "# print(fitness_values)"
   ],
   "metadata": {
    "collapsed": false,
    "pycharm": {
     "name": "#%%\n"
    }
   }
  },
  {
   "cell_type": "code",
   "execution_count": 46,
   "metadata": {
    "pycharm": {
     "name": "#%%\n"
    }
   },
   "outputs": [
    {
     "name": "stdout",
     "output_type": "stream",
     "text": [
      "[(0, 2), (0, 1), (1, 4), (2, 3)]\n"
     ]
    }
   ],
   "source": [
    "G = nx.from_prufer_sequence(population[0])\n",
    "print(G.edges())"
   ]
  }
 ],
 "metadata": {
  "kernelspec": {
   "display_name": "Python 3 (ipykernel)",
   "language": "python",
   "name": "python3"
  },
  "language_info": {
   "codemirror_mode": {
    "name": "ipython",
    "version": 3
   },
   "file_extension": ".py",
   "mimetype": "text/x-python",
   "name": "python",
   "nbconvert_exporter": "python",
   "pygments_lexer": "ipython3",
   "version": "3.9.7"
  }
 },
 "nbformat": 4,
 "nbformat_minor": 1
}