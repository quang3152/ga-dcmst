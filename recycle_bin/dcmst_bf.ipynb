{
 "cells": [
  {
   "cell_type": "code",
   "execution_count": 9,
   "metadata": {
    "collapsed": true
   },
   "outputs": [],
   "source": [
    "import sys\n",
    "from itertools import combinations\n",
    "\n",
    "import networkx as nx\n",
    "\n",
    "from utils import get_distance, get_distance_table\n",
    "\n",
    "\n",
    "# def dfs(graph, start, visited, parent):\n",
    "#     visited[start] = True\n",
    "#     for v in graph[start]:\n",
    "#         if not visited[v]:\n",
    "#             parent[v] = start\n",
    "#             dfs(graph, v, visited, parent)\n",
    "#\n",
    "#\n",
    "# def generate_all_spanning_trees(n):\n",
    "#     graph = {i: set(range(n)) - {i} for i in range(n)}\n",
    "#     trees = []\n",
    "#     for edges in combinations(combinations(range(n), 2), n - 1):\n",
    "#         graph_copy = {i: set() for i in range(n)}\n",
    "#         for edge in edges:\n",
    "#             graph_copy[edge[0]].add(edge[1])\n",
    "#             graph_copy[edge[1]].add(edge[0])\n",
    "#         visited = [False] * n\n",
    "#         parent = [-1] * n\n",
    "#         dfs(graph_copy, 0, visited, parent)\n",
    "#         if all(visited):\n",
    "#             trees.append(parent)\n",
    "#     return trees\n",
    "#\n",
    "#\n",
    "# # Example usage:\n",
    "# n = 4\n",
    "# trees = generate_all_spanning_trees(n)\n",
    "# for tree in trees:\n",
    "#     print(tree)"
   ]
  },
  {
   "cell_type": "code",
   "execution_count": 10,
   "outputs": [],
   "source": [
    "# def generate_edges(tree):\n",
    "#     edges = []\n",
    "#     for i in range(1, len(tree)):\n",
    "#         edges.append((i, tree[i]))\n",
    "#     return edges"
   ],
   "metadata": {
    "collapsed": false,
    "pycharm": {
     "name": "#%%\n"
    }
   }
  },
  {
   "cell_type": "code",
   "execution_count": 11,
   "outputs": [],
   "source": [
    "# n = 4\n",
    "# trees = generate_all_spanning_trees(n)\n",
    "#\n",
    "# for tree in trees:\n",
    "#     edges = generate_edges(tree)\n",
    "#     print(edges)"
   ],
   "metadata": {
    "collapsed": false,
    "pycharm": {
     "name": "#%%\n"
    }
   }
  },
  {
   "cell_type": "code",
   "execution_count": 12,
   "outputs": [],
   "source": [
    "# def generate_spanning_trees(n):\n",
    "#     edges = [(i, j) for i in range(n) for j in range(i+1, n)]\n",
    "#     for i in range(2**(n*(n-1)//2)):\n",
    "#         tree_edges = []\n",
    "#         idx = i\n",
    "#         for u, v in edges:\n",
    "#             if idx % 2 == 1:\n",
    "#                 tree_edges.append((u, v))\n",
    "#             idx //= 2\n",
    "#         if is_spanning_tree(n, tree_edges):\n",
    "#             yield tree_edges\n",
    "#\n",
    "# def is_spanning_tree(n, edges):\n",
    "#     if len(edges) != n-1:\n",
    "#         return False\n",
    "#     uf = UnionFind(n)\n",
    "#     for u, v in edges:\n",
    "#         if uf.find(u) == uf.find(v):\n",
    "#             return False\n",
    "#         uf.union(u, v)\n",
    "#     return True\n",
    "#\n",
    "class UnionFind:\n",
    "    def __init__(self, n):\n",
    "        self.parent = list(range(n))\n",
    "        self.rank = [0] * n\n",
    "\n",
    "    def find(self, x):\n",
    "        if self.parent[x] != x:\n",
    "            self.parent[x] = self.find(self.parent[x])\n",
    "        return self.parent[x]\n",
    "\n",
    "    def union(self, x, y):\n",
    "        px, py = self.find(x), self.find(y)\n",
    "        if px == py:\n",
    "            return\n",
    "        if self.rank[px] < self.rank[py]:\n",
    "            self.parent[px] = py\n",
    "        elif self.rank[px] > self.rank[py]:\n",
    "            self.parent[py] = px\n",
    "        else:\n",
    "            self.parent[py] = px\n",
    "            self.rank[px] += 1\n",
    "\n",
    "\n",
    "def generate_spanning_trees(n):\n",
    "    edges = [(i, j) for i in range(n) for j in range(i + 1, n)]\n",
    "    for i in range(2 ** (n * (n - 1) // 2)):\n",
    "        tree_edges = []\n",
    "        idx = i\n",
    "        for u, v in edges:\n",
    "            if idx % 2 == 1:\n",
    "                tree_edges.append((u, v))\n",
    "            idx //= 2\n",
    "        if is_spanning_tree(n, tree_edges):\n",
    "            yield tree_edges\n",
    "\n",
    "\n",
    "def is_spanning_tree(n, edges):\n",
    "    if len(edges) != n - 1:\n",
    "        return False\n",
    "    uf = UnionFind(n)\n",
    "    for u, v in edges:\n",
    "        if uf.find(u) == uf.find(v):\n",
    "            return False\n",
    "        uf.union(u, v)\n",
    "    return True"
   ],
   "metadata": {
    "collapsed": false,
    "pycharm": {
     "name": "#%%\n"
    }
   }
  },
  {
   "cell_type": "code",
   "execution_count": 13,
   "outputs": [],
   "source": [
    "# G = nx.from_edgelist([(0, 1), (0, 2), (0, 3), (0, 4)])\n",
    "# print(G.degree())"
   ],
   "metadata": {
    "collapsed": false,
    "pycharm": {
     "name": "#%%\n"
    }
   }
  },
  {
   "cell_type": "code",
   "execution_count": 14,
   "outputs": [],
   "source": [
    "def calculate_fitness(list_edges, degree_constrained, distances_table):\n",
    "    G = nx.from_edgelist(list_edges)\n",
    "    degrees = list(map(lambda x: x[1], G.degree()))\n",
    "    # print(degrees)\n",
    "\n",
    "    # Check if the degrees more than target degrees\n",
    "    if any(x > degree_constrained for x in degrees):\n",
    "        return sys.maxsize\n",
    "\n",
    "    cost = 0\n",
    "    for edge in list_edges:\n",
    "        cost = cost + get_distance(edge, distances_table)\n",
    "    return cost\n",
    "# dis_tab = get_distance_table(\"data/7_wi29.csv\")\n",
    "# print(calculate_fitness(G.edges(), 4, dis_tab))"
   ],
   "metadata": {
    "collapsed": false,
    "pycharm": {
     "name": "#%%\n"
    }
   }
  },
  {
   "cell_type": "code",
   "execution_count": 15,
   "outputs": [],
   "source": [
    "import math\n",
    "import csv\n",
    "\n",
    "\n",
    "def get_distance_table(file_path):\n",
    "    records = []\n",
    "    with open(file_path, 'r') as csvfile:\n",
    "        reader = csv.reader(csvfile)\n",
    "        # next(reader) # Skip header row\n",
    "        for row in reader:\n",
    "            records.append(row)\n",
    "\n",
    "    # Tạo từ điển để lưu trữ khoảng cách giữa các điểm\n",
    "    distances_table = {}\n",
    "\n",
    "    # Tính toán khoảng cách giữa các điểm và lưu trữ kết quả vào từ điển\n",
    "    for i in range(len(records)):\n",
    "        for j in range(i + 1, len(records)):\n",
    "            point1 = (float(records[i][1]), float(records[i][2]))\n",
    "            point2 = (float(records[j][1]), float(records[j][2]))\n",
    "            distance = math.dist(point1, point2)\n",
    "            key = (int(records[i][0]), int(records[j][0]))\n",
    "            distances_table[key] = distance\n",
    "\n",
    "    # In ra từ điển khoảng cách\n",
    "    return distances_table"
   ],
   "metadata": {
    "collapsed": false,
    "pycharm": {
     "name": "#%%\n"
    }
   }
  },
  {
   "cell_type": "code",
   "execution_count": 16,
   "outputs": [
    {
     "name": "stdout",
     "output_type": "stream",
     "text": [
      "{(0, 1): 74.53561415712696, (0, 2): 4109.913459889123, (0, 3): 3047.9957068357057, (0, 4): 2266.911731360042, (1, 2): 4069.7051490249282, (1, 3): 2999.490729922148, (1, 4): 2213.594362117867, (2, 3): 1172.3669941144242, (2, 4): 1972.9419656948855, (3, 4): 816.6666999999998}\n",
      "Tree: [(0, 1), (1, 4), (2, 3), (3, 4)]\n",
      "Cost:  4277.163670389418\n"
     ]
    }
   ],
   "source": [
    "\n",
    "degree_constrained = 2\n",
    "dis_tab = get_distance_table(\"data/5_wi29.csv\")\n",
    "print(dis_tab)\n",
    "n = 5\n",
    "spanning_trees = list(generate_spanning_trees(n))\n",
    "# i = 1\n",
    "min_cost = sys.maxsize\n",
    "best_tree = []\n",
    "for tree in spanning_trees:\n",
    "    cost = calculate_fitness(tree, degree_constrained=degree_constrained, distances_table=dis_tab)\n",
    "    # print(cost, tree)\n",
    "    if cost < min_cost:\n",
    "        best_tree = tree\n",
    "        min_cost = cost\n",
    "    # print(\"best_tree\", min_cost, best_tree)\n",
    "\n",
    "    # i += 1\n",
    "print(\"Tree:\", best_tree )\n",
    "print(\"Cost: \", min_cost)"
   ],
   "metadata": {
    "collapsed": false,
    "pycharm": {
     "name": "#%%\n"
    }
   }
  },
  {
   "cell_type": "code",
   "execution_count": 17,
   "outputs": [
    {
     "name": "stdout",
     "output_type": "stream",
     "text": [
      "{(0, 1): 74.53561415712696, (0, 2): 4109.913459889123, (0, 3): 3047.9957068357057, (0, 4): 2266.911731360042, (0, 5): 973.5388173508504, (0, 6): 4190.100799370928, (1, 2): 4069.7051490249282, (1, 3): 2999.490729922148, (1, 4): 2213.594362117867, (1, 5): 900.6170933803621, (1, 6): 4137.397248808054, (2, 3): 1172.3669941144242, (2, 4): 1972.9419656948855, (2, 5): 3496.2280930867323, (2, 6): 891.0043851993363, (3, 4): 816.6666999999998, (3, 5): 2350.0, (3, 6): 1172.1300771577262, (4, 5): 1533.3333000000002, (4, 6): 1923.899450190796, (5, 6): 3416.829291576882}\n",
      "Tree: [(0, 1), (1, 5), (2, 6), (3, 4), (3, 6), (4, 5)]\n",
      "Cost:  5388.287169894551\n"
     ]
    }
   ],
   "source": [
    "\n",
    "degree_constrained = 2\n",
    "dis_tab = get_distance_table(\"data/7_wi29.csv\")\n",
    "print(dis_tab)\n",
    "n = 7\n",
    "spanning_trees = list(generate_spanning_trees(n))\n",
    "# i = 1\n",
    "min_cost = sys.maxsize\n",
    "best_tree = []\n",
    "for tree in spanning_trees:\n",
    "    cost = calculate_fitness(tree, degree_constrained=degree_constrained, distances_table=dis_tab)\n",
    "    # print(cost, tree)\n",
    "    if cost < min_cost:\n",
    "        best_tree = tree\n",
    "        min_cost = cost\n",
    "    # print(\"best_tree\", min_cost, best_tree)\n",
    "\n",
    "    # i += 1\n",
    "print(\"Tree:\", best_tree )\n",
    "print(\"Cost: \", min_cost)"
   ],
   "metadata": {
    "collapsed": false,
    "pycharm": {
     "name": "#%%\n"
    }
   }
  }
 ],
 "metadata": {
  "kernelspec": {
   "display_name": "Python 3",
   "language": "python",
   "name": "python3"
  },
  "language_info": {
   "codemirror_mode": {
    "name": "ipython",
    "version": 2
   },
   "file_extension": ".py",
   "mimetype": "text/x-python",
   "name": "python",
   "nbconvert_exporter": "python",
   "pygments_lexer": "ipython2",
   "version": "2.7.6"
  }
 },
 "nbformat": 4,
 "nbformat_minor": 0
}